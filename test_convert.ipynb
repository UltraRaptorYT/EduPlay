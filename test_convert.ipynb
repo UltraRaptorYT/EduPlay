{
 "cells": [
  {
   "cell_type": "code",
   "execution_count": 4,
   "metadata": {},
   "outputs": [
    {
     "ename": "AttributeError",
     "evalue": "module 'cv2.aruco' has no attribute 'drawMarker'",
     "output_type": "error",
     "traceback": [
      "\u001b[1;31m---------------------------------------------------------------------------\u001b[0m",
      "\u001b[1;31mAttributeError\u001b[0m                            Traceback (most recent call last)",
      "Cell \u001b[1;32mIn[4], line 23\u001b[0m\n\u001b[0;32m     20\u001b[0m     cv2\u001b[39m.\u001b[39mimwrite(marker_file, ar_marker)\n\u001b[0;32m     22\u001b[0m \u001b[39m# Example usage\u001b[39;00m\n\u001b[1;32m---> 23\u001b[0m convert_png_to_ar_marker(\u001b[39m'\u001b[39;49m\u001b[39minput.png\u001b[39;49m\u001b[39m'\u001b[39;49m, \u001b[39m'\u001b[39;49m\u001b[39moutput.mind\u001b[39;49m\u001b[39m'\u001b[39;49m, \u001b[39m42\u001b[39;49m, \u001b[39m200\u001b[39;49m)\n",
      "Cell \u001b[1;32mIn[4], line 11\u001b[0m, in \u001b[0;36mconvert_png_to_ar_marker\u001b[1;34m(png_file, marker_file, marker_id, marker_size)\u001b[0m\n\u001b[0;32m      9\u001b[0m \u001b[39m# Create the AR marker image\u001b[39;00m\n\u001b[0;32m     10\u001b[0m marker_image \u001b[39m=\u001b[39m np\u001b[39m.\u001b[39mzeros((marker_size, marker_size), dtype\u001b[39m=\u001b[39mnp\u001b[39m.\u001b[39muint8)\n\u001b[1;32m---> 11\u001b[0m marker_image \u001b[39m=\u001b[39m aruco\u001b[39m.\u001b[39;49mdrawMarker(aruco\u001b[39m.\u001b[39mDictionary_get(aruco\u001b[39m.\u001b[39mDICT_4X4_50), marker_id, marker_size, marker_image, \u001b[39m1\u001b[39m)\n\u001b[0;32m     13\u001b[0m \u001b[39m# Resize the marker image to match the PNG image dimensions\u001b[39;00m\n\u001b[0;32m     14\u001b[0m marker_image \u001b[39m=\u001b[39m cv2\u001b[39m.\u001b[39mresize(marker_image, (image\u001b[39m.\u001b[39mshape[\u001b[39m1\u001b[39m], image\u001b[39m.\u001b[39mshape[\u001b[39m0\u001b[39m]))\n",
      "\u001b[1;31mAttributeError\u001b[0m: module 'cv2.aruco' has no attribute 'drawMarker'"
     ]
    }
   ],
   "source": [
    "import cv2\n",
    "import cv2.aruco as aruco\n",
    "import numpy as np\n",
    "\n",
    "def convert_png_to_ar_marker(png_file, marker_file, marker_id, marker_size):\n",
    "    # Load the PNG image\n",
    "    image = cv2.imread(png_file)\n",
    "\n",
    "    # Create the AR marker image\n",
    "    marker_image = np.zeros((marker_size, marker_size), dtype=np.uint8)\n",
    "    marker_image = aruco.drawMarker(aruco.Dictionary_get(aruco.DICT_4X4_50), marker_id, marker_size, marker_image, 1)\n",
    "\n",
    "    # Resize the marker image to match the PNG image dimensions\n",
    "    marker_image = cv2.resize(marker_image, (image.shape[1], image.shape[0]))\n",
    "\n",
    "    # Combine the PNG image and the marker image\n",
    "    ar_marker = cv2.bitwise_or(image, cv2.cvtColor(marker_image, cv2.COLOR_GRAY2BGR))\n",
    "\n",
    "    # Save the resulting marker image\n",
    "    cv2.imwrite(marker_file, ar_marker)\n",
    "\n",
    "# Example usage\n",
    "convert_png_to_ar_marker('input.png', 'output.mind', 42, 200)\n"
   ]
  }
 ],
 "metadata": {
  "kernelspec": {
   "display_name": "env",
   "language": "python",
   "name": "python3"
  },
  "language_info": {
   "codemirror_mode": {
    "name": "ipython",
    "version": 3
   },
   "file_extension": ".py",
   "mimetype": "text/x-python",
   "name": "python",
   "nbconvert_exporter": "python",
   "pygments_lexer": "ipython3",
   "version": "3.10.10"
  },
  "orig_nbformat": 4
 },
 "nbformat": 4,
 "nbformat_minor": 2
}
